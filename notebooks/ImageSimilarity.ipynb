{
 "cells": [
  {
   "cell_type": "markdown",
   "metadata": {},
   "source": [
    "# Image Embedding Example\n",
    "\n",
    "- [Image Similarity with Hugging Face Datasets and Transformers](https://huggingface.co/blog/image-similarity)"
   ]
  },
  {
   "cell_type": "code",
   "execution_count": null,
   "metadata": {},
   "outputs": [
    {
     "ename": "",
     "evalue": "",
     "output_type": "error",
     "traceback": [
      "\u001b[1;31mFailed to connect to the remote Jupyter Server 'http://127.0.0.1:8888/'. Verify the server is running and reachable. ('_xsrf' argument missing from POST)."
     ]
    }
   ],
   "source": [
    "!pip install transformers requests\n",
    "!pip install datasets torch\n",
    "!pip install \"pybind11>=2.12\"\n",
    "# !pip uninstall numpy -y\n",
    "!pip install \"numpy<2\"\n",
    "!pip install --upgrade jupyter ipywidgets"
   ]
  },
  {
   "cell_type": "code",
   "execution_count": null,
   "metadata": {},
   "outputs": [
    {
     "ename": "",
     "evalue": "",
     "output_type": "error",
     "traceback": [
      "\u001b[1;31mFailed to connect to the remote Jupyter Server 'http://127.0.0.1:8888/'. Verify the server is running and reachable. ('_xsrf' argument missing from POST)."
     ]
    }
   ],
   "source": [
    "from transformers import AutoImageProcessor, AutoModel\n",
    "\n",
    "model_ckpt = 'google/vit-base-patch16-224'\n",
    "processor = AutoImageProcessor.from_pretrained(model_ckpt)\n",
    "model = AutoModel.from_pretrained(model_ckpt)\n",
    "# model.eval()  # Set the model to evaluation mode"
   ]
  },
  {
   "cell_type": "code",
   "execution_count": null,
   "metadata": {},
   "outputs": [
    {
     "ename": "",
     "evalue": "",
     "output_type": "error",
     "traceback": [
      "\u001b[1;31mFailed to connect to the remote Jupyter Server 'http://127.0.0.1:8888/'. Verify the server is running and reachable. ('_xsrf' argument missing from POST)."
     ]
    }
   ],
   "source": [
    "from transformers import AutoImageProcessor, AutoModel\n",
    "import torch\n",
    "from PIL import Image\n",
    "from torch.nn.functional import cosine_similarity\n",
    "def preprocess_image(image_path):\n",
    "    image = Image.open(image_path).convert(\"RGB\")\n",
    "    inputs = processor(images=image, return_tensors=\"pt\")\n",
    "    return inputs\n",
    "\n",
    "# Example usage\n",
    "image_path1 = \"buddy_face.jpg\" #\"buddy.jpg\"\n",
    "image_path2 = \"IMG_6529_face.jpg\"\n",
    "inputs1 = preprocess_image(image_path1)\n",
    "inputs2 = preprocess_image(image_path2)\n",
    "\n",
    "with torch.no_grad():\n",
    "    outputs1 = model(**inputs1)\n",
    "    outputs2 = model(**inputs2)\n",
    "\n",
    "# The embeddings are typically taken from the last hidden state of the model\n",
    "embeddings1 = outputs1.last_hidden_state[:, 0, :]  # Extract [CLS] token embedding\n",
    "embeddings2 = outputs2.last_hidden_state[:, 0, :]  # Extract [CLS] token embedding\n",
    "\n",
    "# Get the embedding length (dimensionality)\n",
    "embedding_length = embeddings1.shape[1]\n",
    "print(f\"Embedding length: {embedding_length}\")\n",
    "\n",
    "# Output the embeddings\n",
    "print(f\"Embeddings for image 1: {embeddings1}\")\n",
    "print(f\"Embeddings for image 2: {embeddings2}\")\n",
    "\n",
    "\n",
    "from torch.nn.functional import cosine_similarity\n",
    "\n",
    "similarity = cosine_similarity(embeddings1, embeddings2)\n",
    "print(f\"Similarity: {similarity.item()}\")\n"
   ]
  }
 ],
 "metadata": {
  "kernelspec": {
   "display_name": "Python 3 (ipykernel)",
   "language": "python",
   "name": "python3"
  }
 },
 "nbformat": 4,
 "nbformat_minor": 2
}
